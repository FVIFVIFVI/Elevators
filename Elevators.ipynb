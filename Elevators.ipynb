{
 "cells": [
  {
   "cell_type": "code",
   "execution_count": 9,
   "metadata": {},
   "outputs": [],
   "source": [
    "import tkinter as tk\n",
    "\n",
    "class Building:\n",
    "    def __init__(self, root, num_floors, floor_height, floor_width):\n",
    "        self.floors = [Floor(root, 0, i * floor_height, floor_height, floor_width) for i in range(num_floors)]\n",
    "        self.elevator = Elevator(root, 0, floor_height)\n",
    "\n",
    "    def update(self, floor_num):\n",
    "        self.elevator.move_to_floor(floor_num)\n",
    "\n",
    "class Elevator:\n",
    "    def __init__(self, root, initial_pos, floor_height):\n",
    "        self.root = root\n",
    "        self.y_pos = initial_pos\n",
    "        self.floor_height = floor_height\n",
    "        self.label = tk.Label(root, text=\"Elevator\", bg=\"yellow\", font=(\"Helvetica\", 16))\n",
    "        self.label.place(x=50, y=self.y_pos)\n",
    "\n",
    "    def move_to_floor(self, floor_num):\n",
    "        target_y = floor_num * self.floor_height\n",
    "        if self.y_pos != target_y:\n",
    "            step = 1 if self.y_pos < target_y else -1\n",
    "            self.y_pos += step\n",
    "            self.label.place(y=self.y_pos)\n",
    "            self.root.after(100, lambda: self.move_to_floor(floor_num))\n",
    "\n",
    "class Floor:\n",
    "    def __init__(self, root, pos_x, pos_y, height, width):\n",
    "        self.label = tk.Label(root, height=height, width=width, bg=\"grey\")\n",
    "        self.label.place(x=pos_x, y=pos_y, width=width, height=height)\n",
    "\n",
    "def main():\n",
    "    root = tk.Tk()\n",
    "    root.title(\"Building Elevator Simulation\")\n",
    "    root.geometry(\"800x600\")\n",
    "    \n",
    "    building = Building(root, 6, 80, 200)\n",
    "    \n",
    "    button = tk.Button(root, text=\"Move Elevator to Floor 3\", command=lambda: building.update(3))\n",
    "    button.pack()\n",
    "\n",
    "    root.mainloop()\n",
    "\n",
    "if __name__ == \"__main__\":\n",
    "    main()\n"
   ]
  }
 ],
 "metadata": {
  "kernelspec": {
   "display_name": "Python 3",
   "language": "python",
   "name": "python3"
  },
  "language_info": {
   "codemirror_mode": {
    "name": "ipython",
    "version": 3
   },
   "file_extension": ".py",
   "mimetype": "text/x-python",
   "name": "python",
   "nbconvert_exporter": "python",
   "pygments_lexer": "ipython3",
   "version": "3.12.3"
  }
 },
 "nbformat": 4,
 "nbformat_minor": 2
}
